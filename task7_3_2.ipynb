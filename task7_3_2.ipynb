{
  "nbformat": 4,
  "nbformat_minor": 0,
  "metadata": {
    "colab": {
      "provenance": []
    },
    "kernelspec": {
      "name": "python3",
      "display_name": "Python 3"
    },
    "language_info": {
      "name": "python"
    }
  },
  "cells": [
    {
      "cell_type": "markdown",
      "source": [],
      "metadata": {
        "id": "S6hE4esRcS-p"
      }
    },
    {
      "cell_type": "markdown",
      "source": [
        "# Three Wheeled Robot Kinematic Model"
      ],
      "metadata": {
        "id": "x_9QNr4tcUJA"
      }
    },
    {
      "cell_type": "markdown",
      "source": [
        "The mathematical framework known as \"Differential Drive Kinematics\" pertains to the kinematics of a three-wheeled robot. It elucidates how the robot shifts its position and orientation in response to the velocities of its two controllable wheels. Such robots, distinguished by two independently operable wheels typically aligned on a shared axis along with a caster wheel or another passive support, find widespread application in mobile robots, robotic platforms, and certain types of robotic vehicles."
      ],
      "metadata": {
        "id": "-VGiC7RW7XZw"
      }
    },
    {
      "cell_type": "markdown",
      "source": [],
      "metadata": {
        "id": "JC6w50J__H5v"
      }
    },
    {
      "cell_type": "code",
      "source": [],
      "metadata": {
        "id": "z6t4nmjV_HN6"
      },
      "execution_count": null,
      "outputs": []
    },
    {
      "cell_type": "markdown",
      "source": [
        "\n",
        "\n",
        "---\n",
        "\n"
      ],
      "metadata": {
        "id": "AcsdbpTjfUWK"
      }
    },
    {
      "cell_type": "markdown",
      "source": [
        "Python Simulation of the\n",
        "movement of that robot that\n",
        "includes:\n",
        "o Take (Vx, Vy, omega) and\n",
        "return the angular velocity on\n",
        "each motor"
      ],
      "metadata": {
        "id": "Mihf3nc4ckpV"
      }
    },
    {
      "cell_type": "markdown",
      "source": [
        "![three.png](data:image/png;base64,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)"
      ],
      "metadata": {
        "id": "9eMNxJxPiC9f"
      }
    },
    {
      "cell_type": "code",
      "source": [
        "import numpy as np"
      ],
      "metadata": {
        "id": "dHITAl26eRDY"
      },
      "execution_count": 2,
      "outputs": []
    },
    {
      "cell_type": "code",
      "source": [
        "# Define constants\n",
        "L = 0.2\n",
        "r = 0.1  # Assuming radius of each wheel is 0.1 m"
      ],
      "metadata": {
        "id": "EGKElB0zeSrA"
      },
      "execution_count": 8,
      "outputs": []
    },
    {
      "cell_type": "markdown",
      "source": [
        "**Matrix form of The Kinemtic model**"
      ],
      "metadata": {
        "id": "-6e4UJmIe6IT"
      }
    },
    {
      "cell_type": "markdown",
      "source": [],
      "metadata": {
        "id": "qP4_PY-pfXnG"
      }
    },
    {
      "cell_type": "markdown",
      "source": [
        "\\begin{bmatrix} \\omega_1 \\\\ \\omega_2 \\\\ \\omega_3 \\end{bmatrix} = 1/r\\begin{bmatrix} 0 & -\\frac{1}{2} & \\frac{\\sqrt{3}}{2} \\\\ 0 & -\\frac{1}{2} & -\\frac{\\sqrt{3}}{2} \\\\ 1 & 0 & 0 \\end{bmatrix} \\begin{bmatrix} V_x' \\\\ V_y' \\\\ \\phi_r' \\end{bmatrix}"
      ],
      "metadata": {
        "id": "7OY-WFCrgJZL"
      }
    },
    {
      "cell_type": "code",
      "source": [
        "# Define the velocity matrix\n",
        "def calculate_velocity(xr, xr_prime):\n",
        "    v1 = np.array([-1/2 * xr_prime[0] + np.sqrt(3)/2 * xr_prime[1] + L * xr_prime[2]])\n",
        "    v2 = np.array([-1/2 * xr_prime[0] - np.sqrt(3)/2 * xr_prime[1] + L * xr_prime[2]])\n",
        "    v3 = np.array([xr_prime[0] + L * xr_prime[2]])\n",
        "    return np.vstack((v1, v2, v3))"
      ],
      "metadata": {
        "id": "j4f39YP8eWls"
      },
      "execution_count": 9,
      "outputs": []
    },
    {
      "cell_type": "code",
      "source": [
        "# Define the function to calculate angular velocities\n",
        "def calculate_angular_velocities(vx, vy, omega):\n",
        "    v_matrix = np.array([[0, -1/2, np.sqrt(3)/2],\n",
        "                         [0, -1/2, -np.sqrt(3)/2],\n",
        "                         [1, 0, 0]])\n",
        "\n",
        "    vr = np.array([[vx],\n",
        "                   [vy],\n",
        "                   [L * omega]])\n",
        "\n",
        "    omega = np.linalg.solve(v_matrix, vr)\n",
        "    return omega\n"
      ],
      "metadata": {
        "id": "0NcNo9yTebbx"
      },
      "execution_count": 10,
      "outputs": []
    },
    {
      "cell_type": "markdown",
      "source": [
        "**Convert from the local frame of robot to the\n",
        "global frame of the world using a rotational matrix**"
      ],
      "metadata": {
        "id": "RiWVTxYt3mWU"
      }
    },
    {
      "cell_type": "markdown",
      "source": [
        "\n",
        "\\begin{bmatrix}\n",
        "    Vx \\\\\n",
        "    Vy \\\\\n",
        "    W\n",
        "\\end{bmatrix}\n",
        "=\n",
        "\\begin{bmatrix}\n",
        "    \\cos(\\theta) & -\\sin(\\theta) & 0 \\\\\n",
        "    \\sin(\\theta) & \\cos(\\theta) & 0 \\\\\n",
        "    0 & 0 & 1\n",
        "\\end{bmatrix}\n",
        "\\begin{bmatrix}\n",
        "    vx \\\\\n",
        "    vy \\\\\n",
        "    \\omega\n",
        "\\end{bmatrix}\n",
        "\n"
      ],
      "metadata": {
        "id": "XujC9d3X4Gbt"
      }
    },
    {
      "cell_type": "code",
      "source": [
        "theta = 60\n",
        "rot = np.array([[np.cos(theta * (np.pi/180)),-np.sin(theta * (np.pi/180)),0],\n",
        "             [np.sin(theta * (np.pi/180)),np.cos(theta * (np.pi/180)),0],\n",
        "             [0,0,1]])\n",
        "\n",
        "# vg = rot @ vl\n",
        "# print(f\"vg: \\n{np.round(vg,2)}\")"
      ],
      "metadata": {
        "id": "rGbyhN8f3muj"
      },
      "execution_count": 23,
      "outputs": []
    },
    {
      "cell_type": "code",
      "source": [
        "if __name__ == \"__main__\":\n",
        "    # Input velocities\n",
        "    vx = 0.1\n",
        "    vy = 0.2\n",
        "    omega = 0.3\n",
        "\n",
        "    # Calculate angular velocities\n",
        "    angular_velocities = calculate_angular_velocities(vx, vy, omega)\n",
        "    W1 = angular_velocities[0, 0]\n",
        "    W2= angular_velocities[1, 0]\n",
        "    W3= angular_velocities[2, 0]\n",
        "    print(f\"Angular velocity of first wheel: {W1}\")\n",
        "    print(f\"Angular velocity of second wheel: {W2}\")\n",
        "    print(f\"Angular velocity of third wheel: {W3}\")\n",
        "\n",
        "\n",
        "    # Define the local velocities as a column vector\n",
        "    local_velocities = np.array([[vx], [vy], [omega]])\n",
        "\n",
        "    # Perform matrix multiplication\n",
        "    global_velocities = np.dot(rot, local_velocities)\n",
        "\n",
        "    # Extract global velocities\n",
        "    Vx = global_velocities[0, 0]\n",
        "    Vy = global_velocities[1, 0]\n",
        "    W = global_velocities[2, 0]\n",
        "\n",
        "    # Print the results\n",
        "    print(f\"Global Vx: {Vx}\")\n",
        "    print(f\"Global Vy: {Vy}\")\n",
        "    print(f\"Global Omega: {W}\")"
      ],
      "metadata": {
        "colab": {
          "base_uri": "https://localhost:8080/"
        },
        "id": "vljThYZ2efzC",
        "outputId": "5748c6c8-eb1e-4cfd-99eb-abc38c6aa751"
      },
      "execution_count": 24,
      "outputs": [
        {
          "output_type": "stream",
          "name": "stdout",
          "text": [
            "Angular velocity of first wheel: 0.06\n",
            "Angular velocity of second wheel: -0.30000000000000004\n",
            "Angular velocity of third wheel: -0.05773502691896258\n",
            "Global Vx: -0.12320508075688771\n",
            "Global Vy: 0.1866025403784439\n",
            "Global Omega: 0.3\n"
          ]
        }
      ]
    },
    {
      "cell_type": "code",
      "source": [],
      "metadata": {
        "id": "TaC15MZjeigq"
      },
      "execution_count": null,
      "outputs": []
    }
  ]
}