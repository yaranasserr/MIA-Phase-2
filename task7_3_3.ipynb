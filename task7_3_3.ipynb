{
  "nbformat": 4,
  "nbformat_minor": 0,
  "metadata": {
    "colab": {
      "provenance": []
    },
    "kernelspec": {
      "name": "python3",
      "display_name": "Python 3"
    },
    "language_info": {
      "name": "python"
    }
  },
  "cells": [
    {
      "cell_type": "markdown",
      "source": [
        "# Positional PID Control that takes the target position and executes an instruction to got to this position"
      ],
      "metadata": {
        "id": "1DpvnoUZ98Vx"
      }
    },
    {
      "cell_type": "code",
      "execution_count": 1,
      "metadata": {
        "id": "3thIX_ma9yY7"
      },
      "outputs": [],
      "source": [
        "import matplotlib.pyplot as plt\n",
        "import numpy as np"
      ]
    },
    {
      "cell_type": "markdown",
      "source": [
        "**Forward Kinematics**"
      ],
      "metadata": {
        "id": "ZQPlutsq-Stl"
      }
    },
    {
      "cell_type": "code",
      "source": [
        "r = .01 #meter wheel radius\n",
        "b = .02 #meter robot radius\n"
      ],
      "metadata": {
        "id": "v29PWheX-aoO"
      },
      "execution_count": 3,
      "outputs": []
    },
    {
      "cell_type": "code",
      "source": [
        "w1 = 255 #  rad/s\n",
        "w2 = 255 #  rad/s\n",
        "w3 = 255 #  rad/s\n",
        "\n",
        "v1 = w1 * r\n",
        "v2 = w2 * r\n",
        "v3 = w3 * r\n",
        "\n",
        "alpha1 = 30 # degreer\n",
        "alpha2 = 150 # degree\n",
        "alpha3 = 270 # degree\n"
      ],
      "metadata": {
        "id": "2WHy5cqe-V7g"
      },
      "execution_count": 4,
      "outputs": []
    },
    {
      "cell_type": "code",
      "source": [
        "v = np.array([[v1],\n",
        "              [v2],\n",
        "              [v3]])\n",
        "\n",
        "k = np.array([[np.cos((alpha1+90) * (np.pi/180)),np.cos((alpha2+90) * (np.pi/180)),np.cos((alpha3+90) * (np.pi/180))],\n",
        "             [np.sin((alpha1+90) * (np.pi/180)),np.sin((alpha2+90) * (np.pi/180)),np.sin((alpha3+90) * (np.pi/180))],\n",
        "             [1/b,1/b,1/b]])\n",
        "\n",
        "vl = k @ v\n",
        "print(f\"vl: \\n{np.round(vl,2)}\")"
      ],
      "metadata": {
        "colab": {
          "base_uri": "https://localhost:8080/"
        },
        "id": "17fNjS64-PPQ",
        "outputId": "4a184782-5a59-443d-b06f-68efaa5716a5"
      },
      "execution_count": 5,
      "outputs": [
        {
          "output_type": "stream",
          "name": "stdout",
          "text": [
            "vl: \n",
            "[[ -0. ]\n",
            " [  0. ]\n",
            " [382.5]]\n"
          ]
        }
      ]
    },
    {
      "cell_type": "markdown",
      "source": [
        "**Inverse Kinematics**"
      ],
      "metadata": {
        "id": "lQ_UEWgP-quB"
      }
    },
    {
      "cell_type": "code",
      "source": [
        "alpha1 = 30 # degree\n",
        "alpha2 = 150 # degree\n",
        "alpha3 = 270 # degree\n",
        "\n",
        "vx = int(input(\"Enter Vx = \")) # m/s\n",
        "vy = int(input(\"Enter Vy = \")) # m/s\n",
        "w = int(input(\"Enter W = \")) # rad/s\n",
        "\n",
        "vl = np.array([[vx],\n",
        "              [vy],\n",
        "              [w]])\n",
        "\n",
        "k = np.array([[np.cos((alpha1+90) * (np.pi/180)),np.cos((alpha2+90) * (np.pi/180)),np.cos((alpha3+90) * (np.pi/180))],\n",
        "             [np.sin((alpha1+90) * (np.pi/180)),np.sin((alpha2+90) * (np.pi/180)),np.sin((alpha3+90) * (np.pi/180))],\n",
        "             [1/b,1/b,1/b]])\n",
        "\n",
        "\n",
        "v = np.linalg.inv(k) @ vl # m/s\n",
        "print(f\"v: \\n{np.round(v,2)}\")\n",
        "\n"
      ],
      "metadata": {
        "colab": {
          "base_uri": "https://localhost:8080/"
        },
        "id": "602b0v84-lJf",
        "outputId": "1e081dbf-f3e8-4728-b482-6cc78d1b66e6"
      },
      "execution_count": 6,
      "outputs": [
        {
          "output_type": "stream",
          "name": "stdout",
          "text": [
            "Enter Vx = 2\n",
            "Enter Vy = 4\n",
            "Enter W = 5\n",
            "v: \n",
            "[[ 1.68]\n",
            " [-2.94]\n",
            " [ 1.37]]\n"
          ]
        }
      ]
    },
    {
      "cell_type": "code",
      "source": [
        "angular_velo = v/r\n",
        "print(f\"angular_velo: \\n{np.round(angular_velo,2)}\") # rad/s\n",
        "\n",
        "rpm = (angular_velo*60)/(2*np.pi)\n",
        "print(f\"rpm of each motor: \\n{np.round(rpm,2)}\") # rpm\n",
        "\n",
        "theta = 0\n",
        "rot = np.array([[np.cos(theta * (np.pi/180)),-np.sin(theta * (np.pi/180)),0],\n",
        "             [np.sin(theta * (np.pi/180)),np.cos(theta * (np.pi/180)),0],\n",
        "             [0,0,1]])\n",
        "\n",
        "vg = rot @ vl\n",
        "print(f\"vg: \\n{np.round(vg,2)}\")\n"
      ],
      "metadata": {
        "colab": {
          "base_uri": "https://localhost:8080/"
        },
        "id": "s0MIs7Xp-6Dc",
        "outputId": "f0418472-cac5-43dd-9803-5cee3b59c1c5"
      },
      "execution_count": 7,
      "outputs": [
        {
          "output_type": "stream",
          "name": "stdout",
          "text": [
            "angular_velo: \n",
            "[[ 167.61]\n",
            " [-294.27]\n",
            " [ 136.67]]\n",
            "rpm of each motor: \n",
            "[[ 1600.53]\n",
            " [-2810.1 ]\n",
            " [ 1305.07]]\n",
            "vg: \n",
            "[[2.]\n",
            " [4.]\n",
            " [5.]]\n"
          ]
        }
      ]
    },
    {
      "cell_type": "code",
      "source": [],
      "metadata": {
        "id": "wZ5W-pao--UV"
      },
      "execution_count": null,
      "outputs": []
    }
  ]
}