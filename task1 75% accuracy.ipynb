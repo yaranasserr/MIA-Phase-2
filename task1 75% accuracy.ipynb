{
 "cells": [
  {
   "cell_type": "markdown",
   "metadata": {},
   "source": [
    "# TASK8.1- Classical View"
   ]
  },
  {
   "cell_type": "markdown",
   "metadata": {},
   "source": [
    "There are 20 images that contain red and blue balls, implementing a\n",
    "classical algorithm using OpenCV, that detects the balls in the images"
   ]
  },
  {
   "cell_type": "code",
   "execution_count": 1,
   "metadata": {},
   "outputs": [],
   "source": [
    "import cv2\n",
    "import numpy as np\n",
    "import imutils\n",
    "import os "
   ]
  },
  {
   "cell_type": "markdown",
   "metadata": {},
   "source": [
    "**Importing Images**"
   ]
  },
  {
   "cell_type": "code",
   "execution_count": 6,
   "metadata": {},
   "outputs": [],
   "source": [
    "directory_path = 'balls/'"
   ]
  },
  {
   "cell_type": "markdown",
   "metadata": {},
   "source": [
    "# Steps of object detection\n",
    "**1-HVS : (Hue, Saturation, Value)**\n",
    "Switching to the HSV color space proves invaluable in tasks such as identifying objects based on color or segmenting images.In contour detection, the conversion to the HSV color space  is particularly useful because it separates the information about color and brightness more intuitively than the traditional RGB color space (Red, Green, Blue).\n",
    "\n",
    "**2-Thresholding**\n",
    "Thresholding is applied using the defined color ranges. This creates binary masks (`red_mask and blue_mask`) where white pixels represent the detected red and blue regions.\n",
    "`cv2.inRange()` is a function in OpenCV used for thresholding. It checks for pixel values in the input array .\n",
    "\n",
    "**3-Contour Detection and Filtering**\n",
    "this finds contours in the binary masks using OpenCV's findContours function. \n",
    "\n",
    "**4-Draw Bounding Boxes**\n",
    "For each detected contour, it calculates the bounding rectangle and draws it on the original image. Red bounding boxes are drawn for red balls, and blue bounding boxes for blue balls.\n"
   ]
  },
  {
   "cell_type": "markdown",
   "metadata": {},
   "source": []
  },
  {
   "cell_type": "code",
   "execution_count": 7,
   "metadata": {},
   "outputs": [],
   "source": [
    "\n",
    "import cv2\n",
    "import numpy as np\n",
    "import imutils\n",
    "import os \n",
    "\n",
    "lower_red1 = np.array([0,185,10])\n",
    "upper_red1 = np.array([6,255,255])\n",
    "\n",
    "lower_red2 = np.array([160,100,20])\n",
    "upper_red2 = np.array([179,255,125])\n",
    "\n",
    "lower_blue = np.array([105, 50, 50])\n",
    "upper_blue = np.array([116, 255, 255])\n",
    "\n",
    "for filename in os.listdir(directory_path):\n",
    "    if filename.endswith('.jpg'):\n",
    "        image_path = os.path.join(directory_path, filename)\n",
    "        image = cv2.imread(image_path)\n",
    "\n",
    "        blurred = cv2.GaussianBlur(image, (11, 11), 0)\n",
    "        hsv = cv2.cvtColor(blurred, cv2.COLOR_BGR2HSV)\n",
    "\n",
    "        mask1 = cv2.inRange(hsv, lower_red1, upper_red1)\n",
    "        mask1 = cv2.erode(mask1, None, iterations=2)\n",
    "        mask1 = cv2.dilate(mask1, None, iterations=2)\n",
    "        # Convert the filtered image to grayscale\n",
    "\n",
    "        mask2 = cv2.inRange(hsv, lower_red2, upper_red2)\n",
    "        mask2 = cv2.erode(mask2, None, iterations=2)\n",
    "        mask2 = cv2.dilate(mask2, None, iterations=2)\n",
    "\n",
    "        mask = cv2.bitwise_or(mask1, mask2)\n",
    "\n",
    "        # find contours in the mask and initialize the current\n",
    "        # (x, y) center of the ball\n",
    "        cnts = cv2.findContours(mask.copy(), cv2.RETR_EXTERNAL,\n",
    "            cv2.CHAIN_APPROX_SIMPLE)\n",
    "        cnts = imutils.grab_contours(cnts)\n",
    "        # only proceed if at least one contour was found\n",
    "        if len(cnts) > 0:\n",
    "            # find the largest contour in the mask, then use\n",
    "            # it to compute the minimum enclosing circle and\n",
    "            # centroid\n",
    "            c = max(cnts, key=cv2.contourArea)\n",
    "            ((x, y), radius) = cv2.minEnclosingCircle(c)\n",
    "            M = cv2.moments(c)\n",
    "            center = (int(M[\"m10\"] / M[\"m00\"]), int(M[\"m01\"] / M[\"m00\"]))\n",
    "            # only proceed if the radius meets a minimum size\n",
    "            if radius > 5:\n",
    "                # draw the circle and centroid on the frame,\n",
    "                # then update the list of tracked points\n",
    "                cv2.circle(image, (int(x), int(y)), int(radius),\n",
    "                    (0, 255, 255), 2)\n",
    "                cv2.circle(image, center, 5, (0, 0, 255), -1)\n",
    "\n",
    "\n",
    "\n",
    "        mask = cv2.inRange(hsv, lower_blue, upper_blue)\n",
    "        mask = cv2.erode(mask, None, iterations=2)\n",
    "        mask = cv2.dilate(mask, None, iterations=2)\n",
    "\n",
    "        cnts = cv2.findContours(mask.copy(), cv2.RETR_EXTERNAL,\n",
    "            cv2.CHAIN_APPROX_SIMPLE)\n",
    "        cnts = imutils.grab_contours(cnts)\n",
    "\n",
    "        # find contours in the mask and initialize the current\n",
    "        # (x, y) center of the ball\n",
    "        cnts = cv2.findContours(mask.copy(), cv2.RETR_EXTERNAL,\n",
    "            cv2.CHAIN_APPROX_SIMPLE)\n",
    "        cnts = imutils.grab_contours(cnts)\n",
    "        # only proceed if at least one contour was found\n",
    "        if len(cnts) > 0:\n",
    "            # find the largest contour in the mask, then use\n",
    "            # it to compute the minimum enclosing circle and\n",
    "            # centroid\n",
    "            c = max(cnts, key=cv2.contourArea)\n",
    "            ((x, y), radius) = cv2.minEnclosingCircle(c)\n",
    "            M = cv2.moments(c)\n",
    "            center = (int(M[\"m10\"] / M[\"m00\"]), int(M[\"m01\"] / M[\"m00\"]))\n",
    "            # only proceed if the radius meets a minimum size\n",
    "            if radius > 5:\n",
    "                # draw the circle and centroid on the frame,\n",
    "                # then update the list of tracked points\n",
    "                cv2.circle(image, (int(x), int(y)), int(radius),\n",
    "                    (0, 255, 255), 2)\n",
    "                cv2.circle(image, center, 5, (0, 0, 255), -1)\n",
    "\n",
    "        cv2.imshow('Balls Detection', image)\n",
    "        cv2.waitKey(0)\n",
    "        cv2.destroyAllWindows()\n",
    "        output_path = os.path.join(\"output\", filename)  #  a directory for output images\n",
    "        cv2.imwrite(output_path, image)"
   ]
  },
  {
   "cell_type": "markdown",
   "metadata": {},
   "source": []
  },
  {
   "cell_type": "markdown",
   "metadata": {},
   "source": [
    "**Built-in Functions**\n",
    "1. `cv2.cvtColor(src, code)`\n",
    "   - **Definition**: Converts an image from one color space to another.\n",
    "   - **Library**: OpenCV (cv2) - Computer Vision library.\n",
    "\n",
    "2. `cv2.inRange(src, lowerb, upperb)`\n",
    "   - **Definition**: Checks if array elements are within the specified range .\n",
    "   - **Library**: OpenCV (cv2) - Computer Vision library.\n",
    "\n",
    "3. `cv2.findContours(image, mode, method)`\n",
    "   - **Definition**: Finds contours in a binary image.\n",
    "   - **Library**: OpenCV (cv2) - Computer Vision library.\n",
    "\n",
    "4. `cv2.boundingRect(points)`\n",
    "   - **Definition**: Calculates the up-right bounding rectangle of a point set.\n",
    "   - **Library**: OpenCV (cv2) - Computer Vision library.\n"
   ]
  },
  {
   "cell_type": "markdown",
   "metadata": {},
   "source": []
  }
 ],
 "metadata": {
  "kernelspec": {
   "display_name": "base",
   "language": "python",
   "name": "python3"
  },
  "language_info": {
   "codemirror_mode": {
    "name": "ipython",
    "version": 3
   },
   "file_extension": ".py",
   "mimetype": "text/x-python",
   "name": "python",
   "nbconvert_exporter": "python",
   "pygments_lexer": "ipython3",
   "version": "3.11.4"
  },
  "orig_nbformat": 4
 },
 "nbformat": 4,
 "nbformat_minor": 2
}
